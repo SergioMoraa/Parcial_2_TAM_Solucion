{
  "nbformat": 4,
  "nbformat_minor": 0,
  "metadata": {
    "colab": {
      "provenance": [],
      "authorship_tag": "ABX9TyMAixM5HRY2HeCzrflWQgg4",
      "include_colab_link": true
    },
    "kernelspec": {
      "name": "python3",
      "display_name": "Python 3"
    },
    "language_info": {
      "name": "python"
    }
  },
  "cells": [
    {
      "cell_type": "markdown",
      "metadata": {
        "id": "view-in-github",
        "colab_type": "text"
      },
      "source": [
        "<a href=\"https://colab.research.google.com/github/SergioMoraa/Parcial_2_TAM_Solucion/blob/main/Parte_D.ipynb\" target=\"_parent\"><img src=\"https://colab.research.google.com/assets/colab-badge.svg\" alt=\"Open In Colab\"/></a>"
      ]
    },
    {
      "cell_type": "code",
      "source": [
        "%pip install dash jupyter_dash plotly"
      ],
      "metadata": {
        "colab": {
          "base_uri": "https://localhost:8080/"
        },
        "id": "huRSZvUzVYRm",
        "outputId": "7e8fb99a-5d91-4fc3-e26e-ac2109c1d14e"
      },
      "execution_count": 7,
      "outputs": [
        {
          "output_type": "stream",
          "name": "stdout",
          "text": [
            "Requirement already satisfied: dash in /usr/local/lib/python3.11/dist-packages (3.1.1)\n",
            "Requirement already satisfied: jupyter_dash in /usr/local/lib/python3.11/dist-packages (0.4.2)\n",
            "Requirement already satisfied: plotly in /usr/local/lib/python3.11/dist-packages (5.24.1)\n",
            "Requirement already satisfied: Flask<3.2,>=1.0.4 in /usr/local/lib/python3.11/dist-packages (from dash) (3.1.1)\n",
            "Requirement already satisfied: Werkzeug<3.2 in /usr/local/lib/python3.11/dist-packages (from dash) (3.1.3)\n",
            "Requirement already satisfied: importlib-metadata in /usr/local/lib/python3.11/dist-packages (from dash) (8.7.0)\n",
            "Requirement already satisfied: typing-extensions>=4.1.1 in /usr/local/lib/python3.11/dist-packages (from dash) (4.14.1)\n",
            "Requirement already satisfied: requests in /usr/local/lib/python3.11/dist-packages (from dash) (2.32.3)\n",
            "Requirement already satisfied: retrying in /usr/local/lib/python3.11/dist-packages (from dash) (1.4.0)\n",
            "Requirement already satisfied: nest-asyncio in /usr/local/lib/python3.11/dist-packages (from dash) (1.6.0)\n",
            "Requirement already satisfied: setuptools in /usr/local/lib/python3.11/dist-packages (from dash) (75.2.0)\n",
            "Requirement already satisfied: ipython in /usr/local/lib/python3.11/dist-packages (from jupyter_dash) (7.34.0)\n",
            "Requirement already satisfied: ipykernel in /usr/local/lib/python3.11/dist-packages (from jupyter_dash) (6.17.1)\n",
            "Requirement already satisfied: ansi2html in /usr/local/lib/python3.11/dist-packages (from jupyter_dash) (1.9.2)\n",
            "Requirement already satisfied: tenacity>=6.2.0 in /usr/local/lib/python3.11/dist-packages (from plotly) (8.5.0)\n",
            "Requirement already satisfied: packaging in /usr/local/lib/python3.11/dist-packages (from plotly) (25.0)\n",
            "Requirement already satisfied: blinker>=1.9.0 in /usr/local/lib/python3.11/dist-packages (from Flask<3.2,>=1.0.4->dash) (1.9.0)\n",
            "Requirement already satisfied: click>=8.1.3 in /usr/local/lib/python3.11/dist-packages (from Flask<3.2,>=1.0.4->dash) (8.2.1)\n",
            "Requirement already satisfied: itsdangerous>=2.2.0 in /usr/local/lib/python3.11/dist-packages (from Flask<3.2,>=1.0.4->dash) (2.2.0)\n",
            "Requirement already satisfied: jinja2>=3.1.2 in /usr/local/lib/python3.11/dist-packages (from Flask<3.2,>=1.0.4->dash) (3.1.6)\n",
            "Requirement already satisfied: markupsafe>=2.1.1 in /usr/local/lib/python3.11/dist-packages (from Flask<3.2,>=1.0.4->dash) (3.0.2)\n",
            "Requirement already satisfied: zipp>=3.20 in /usr/local/lib/python3.11/dist-packages (from importlib-metadata->dash) (3.23.0)\n",
            "Requirement already satisfied: debugpy>=1.0 in /usr/local/lib/python3.11/dist-packages (from ipykernel->jupyter_dash) (1.8.0)\n",
            "Requirement already satisfied: jupyter-client>=6.1.12 in /usr/local/lib/python3.11/dist-packages (from ipykernel->jupyter_dash) (6.1.12)\n",
            "Requirement already satisfied: matplotlib-inline>=0.1 in /usr/local/lib/python3.11/dist-packages (from ipykernel->jupyter_dash) (0.1.7)\n",
            "Requirement already satisfied: psutil in /usr/local/lib/python3.11/dist-packages (from ipykernel->jupyter_dash) (5.9.5)\n",
            "Requirement already satisfied: pyzmq>=17 in /usr/local/lib/python3.11/dist-packages (from ipykernel->jupyter_dash) (24.0.1)\n",
            "Requirement already satisfied: tornado>=6.1 in /usr/local/lib/python3.11/dist-packages (from ipykernel->jupyter_dash) (6.4.2)\n",
            "Requirement already satisfied: traitlets>=5.1.0 in /usr/local/lib/python3.11/dist-packages (from ipykernel->jupyter_dash) (5.7.1)\n",
            "Requirement already satisfied: jedi>=0.16 in /usr/local/lib/python3.11/dist-packages (from ipython->jupyter_dash) (0.19.2)\n",
            "Requirement already satisfied: decorator in /usr/local/lib/python3.11/dist-packages (from ipython->jupyter_dash) (4.4.2)\n",
            "Requirement already satisfied: pickleshare in /usr/local/lib/python3.11/dist-packages (from ipython->jupyter_dash) (0.7.5)\n",
            "Requirement already satisfied: prompt-toolkit!=3.0.0,!=3.0.1,<3.1.0,>=2.0.0 in /usr/local/lib/python3.11/dist-packages (from ipython->jupyter_dash) (3.0.51)\n",
            "Requirement already satisfied: pygments in /usr/local/lib/python3.11/dist-packages (from ipython->jupyter_dash) (2.19.2)\n",
            "Requirement already satisfied: backcall in /usr/local/lib/python3.11/dist-packages (from ipython->jupyter_dash) (0.2.0)\n",
            "Requirement already satisfied: pexpect>4.3 in /usr/local/lib/python3.11/dist-packages (from ipython->jupyter_dash) (4.9.0)\n",
            "Requirement already satisfied: charset-normalizer<4,>=2 in /usr/local/lib/python3.11/dist-packages (from requests->dash) (3.4.2)\n",
            "Requirement already satisfied: idna<4,>=2.5 in /usr/local/lib/python3.11/dist-packages (from requests->dash) (3.10)\n",
            "Requirement already satisfied: urllib3<3,>=1.21.1 in /usr/local/lib/python3.11/dist-packages (from requests->dash) (2.4.0)\n",
            "Requirement already satisfied: certifi>=2017.4.17 in /usr/local/lib/python3.11/dist-packages (from requests->dash) (2025.7.14)\n",
            "Requirement already satisfied: parso<0.9.0,>=0.8.4 in /usr/local/lib/python3.11/dist-packages (from jedi>=0.16->ipython->jupyter_dash) (0.8.4)\n",
            "Requirement already satisfied: jupyter-core>=4.6.0 in /usr/local/lib/python3.11/dist-packages (from jupyter-client>=6.1.12->ipykernel->jupyter_dash) (5.8.1)\n",
            "Requirement already satisfied: python-dateutil>=2.1 in /usr/local/lib/python3.11/dist-packages (from jupyter-client>=6.1.12->ipykernel->jupyter_dash) (2.9.0.post0)\n",
            "Requirement already satisfied: ptyprocess>=0.5 in /usr/local/lib/python3.11/dist-packages (from pexpect>4.3->ipython->jupyter_dash) (0.7.0)\n",
            "Requirement already satisfied: wcwidth in /usr/local/lib/python3.11/dist-packages (from prompt-toolkit!=3.0.0,!=3.0.1,<3.1.0,>=2.0.0->ipython->jupyter_dash) (0.2.13)\n",
            "Requirement already satisfied: platformdirs>=2.5 in /usr/local/lib/python3.11/dist-packages (from jupyter-core>=4.6.0->jupyter-client>=6.1.12->ipykernel->jupyter_dash) (4.3.8)\n",
            "Requirement already satisfied: six>=1.5 in /usr/local/lib/python3.11/dist-packages (from python-dateutil>=2.1->jupyter-client>=6.1.12->ipykernel->jupyter_dash) (1.17.0)\n"
          ]
        }
      ]
    },
    {
      "cell_type": "code",
      "execution_count": 8,
      "metadata": {
        "colab": {
          "base_uri": "https://localhost:8080/",
          "height": 672
        },
        "id": "1g73ZAhrS_lR",
        "outputId": "7f998038-af75-407c-bda6-6aa9d6762ded"
      },
      "outputs": [
        {
          "output_type": "display_data",
          "data": {
            "text/plain": [
              "<IPython.core.display.Javascript object>"
            ],
            "application/javascript": [
              "(async (port, path, width, height, cache, element) => {\n",
              "    if (!google.colab.kernel.accessAllowed && !cache) {\n",
              "      return;\n",
              "    }\n",
              "    element.appendChild(document.createTextNode(''));\n",
              "    const url = await google.colab.kernel.proxyPort(port, {cache});\n",
              "    const iframe = document.createElement('iframe');\n",
              "    iframe.src = new URL(path, url).toString();\n",
              "    iframe.height = height;\n",
              "    iframe.width = width;\n",
              "    iframe.style.border = 0;\n",
              "    iframe.allow = [\n",
              "        'accelerometer',\n",
              "        'autoplay',\n",
              "        'camera',\n",
              "        'clipboard-read',\n",
              "        'clipboard-write',\n",
              "        'gyroscope',\n",
              "        'magnetometer',\n",
              "        'microphone',\n",
              "        'serial',\n",
              "        'usb',\n",
              "        'xr-spatial-tracking',\n",
              "    ].join('; ');\n",
              "    element.appendChild(iframe);\n",
              "  })(8050, \"/\", \"100%\", 650, false, window.element)"
            ]
          },
          "metadata": {}
        }
      ],
      "source": [
        "# Dashboard completo con explicaciones interactivas, resumen de modelos y gráficas\n",
        "\n",
        "from dash import Dash, dcc, html, Input, Output\n",
        "import plotly.graph_objs as go\n",
        "import pandas as pd\n",
        "# from jupyter_dash import JupyterDash # Removed deprecated import\n",
        "import numpy as np\n",
        "import plotly.express as px\n",
        "\n",
        "# Datos simulados (debes reemplazar con tus datos reales si ya los tienes procesados)\n",
        "model_names = ['Logistic Regression', 'MLP', 'Voting Classifier', 'Stacking Classifier']\n",
        "accuracy = [0.86, 0.91, 0.96, 0.98]\n",
        "f1_score = [0.86, 0.92, 0.96, 0.98]\n",
        "\n",
        "# Matrices de confusión simuladas (puedes cambiarlas con tus resultados reales)\n",
        "conf_matrices = {\n",
        "    'Logistic Regression': [[90, 10], [12, 88]],\n",
        "    'MLP': [[92, 8], [9, 91]],\n",
        "    'Voting Classifier': [[95, 5], [5, 95]],\n",
        "    'Stacking Classifier': [[97, 3], [2, 98]]\n",
        "}\n",
        "\n",
        "# Inicializar la app\n",
        "# app = JupyterDash(__name__) # Removed deprecated class\n",
        "app = Dash(__name__) # Use standard Dash class\n",
        "\n",
        "# Layout del dashboard\n",
        "app.layout = html.Div([\n",
        "    html.H1('Dashboard de Evaluación de Modelos de Clasificación', style={'textAlign': 'center'}),\n",
        "\n",
        "    html.Div([\n",
        "        html.H3('Descripción del Proyecto'),\n",
        "        html.P(\"\"\"\n",
        "        Este proyecto tiene como objetivo clasificar imágenes de dígitos manuscritos\n",
        "        utilizando distintos modelos de machine learning y deep learning. Se utilizaron modelos clásicos como\n",
        "        regresión logística y redes neuronales multicapa (MLP), así como modelos de ensamble como Voting y Stacking,\n",
        "        los cuales combinan varios clasificadores para mejorar el rendimiento.\n",
        "        \"\"\")\n",
        "    ], style={'padding': '20px'}),\n",
        "\n",
        "    html.H3('Métricas por Modelo'),\n",
        "    dcc.Graph(\n",
        "        id='metricas-modelos',\n",
        "        figure={\n",
        "            'data': [\n",
        "                go.Bar(name='Accuracy', x=model_names, y=accuracy),\n",
        "                go.Bar(name='F1-Score', x=model_names, y=f1_score),\n",
        "            ],\n",
        "            'layout': go.Layout(title='Accuracy vs F1-score por Modelo', barmode='group')\n",
        "        }\n",
        "    ),\n",
        "\n",
        "    html.H3('Visualización de la Matriz de Confusión'),\n",
        "    dcc.Dropdown(\n",
        "        id='modelo-dropdown',\n",
        "        options=[{'label': name, 'value': name} for name in model_names],\n",
        "        value='Stacking Classifier'\n",
        "    ),\n",
        "    dcc.Graph(id='confusion-matrix'),\n",
        "\n",
        "    html.H3('Conclusiones'),\n",
        "    html.Div([\n",
        "        html.P(\"\"\"\n",
        "        Se observa que los modelos de ensamble (Voting y especialmente Stacking Classifier) superan a los modelos base\n",
        "        tanto en accuracy como en F1-score. El modelo Stacking logra una mejor generalización y robustez al combinar\n",
        "        múltiples clasificadores.\n",
        "        \"\"\")\n",
        "    ])\n",
        "])\n",
        "\n",
        "# Callback para actualizar la matriz de confusión\n",
        "@app.callback(\n",
        "    Output('confusion-matrix', 'figure'),\n",
        "    Input('modelo-dropdown', 'value')\n",
        ")\n",
        "def update_confusion_matrix(selected_model):\n",
        "    matrix = conf_matrices[selected_model]\n",
        "    fig = go.Figure(data=go.Heatmap(\n",
        "        z=matrix,\n",
        "        x=['Predicted Negative', 'Predicted Positive'],\n",
        "        y=['Actual Negative', 'Actual Positive'],\n",
        "        colorscale='Viridis',\n",
        "        colorbar=dict(title='Count')\n",
        "    ))\n",
        "    fig.update_layout(title=f'Matriz de Confusión para {selected_model}')\n",
        "    return fig\n",
        "\n",
        "# Ejecutar la app (en Colab, esto iniciará el servidor y mostrará un enlace)\n",
        "if __name__ == '__main__':\n",
        "    app.run()"
      ]
    }
  ]
}